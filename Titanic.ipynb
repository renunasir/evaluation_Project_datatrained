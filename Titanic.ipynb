{
 "cells": [
  {
   "cell_type": "markdown",
   "id": "7f8968f5",
   "metadata": {},
   "source": [
    "# Importing the Dataset:"
   ]
  },
  {
   "cell_type": "code",
   "execution_count": 1,
   "id": "5fe2dcc5",
   "metadata": {},
   "outputs": [],
   "source": [
    "import pandas as pd\n",
    "import numpy as np"
   ]
  },
  {
   "cell_type": "code",
   "execution_count": 3,
   "id": "2cf7b085",
   "metadata": {},
   "outputs": [
    {
     "data": {
      "text/html": [
       "<div>\n",
       "<style scoped>\n",
       "    .dataframe tbody tr th:only-of-type {\n",
       "        vertical-align: middle;\n",
       "    }\n",
       "\n",
       "    .dataframe tbody tr th {\n",
       "        vertical-align: top;\n",
       "    }\n",
       "\n",
       "    .dataframe thead th {\n",
       "        text-align: right;\n",
       "    }\n",
       "</style>\n",
       "<table border=\"1\" class=\"dataframe\">\n",
       "  <thead>\n",
       "    <tr style=\"text-align: right;\">\n",
       "      <th></th>\n",
       "      <th>PassengerId</th>\n",
       "      <th>Survived</th>\n",
       "      <th>Pclass</th>\n",
       "      <th>Name</th>\n",
       "      <th>Sex</th>\n",
       "      <th>Age</th>\n",
       "      <th>SibSp</th>\n",
       "      <th>Parch</th>\n",
       "      <th>Ticket</th>\n",
       "      <th>Fare</th>\n",
       "      <th>Cabin</th>\n",
       "      <th>Embarked</th>\n",
       "    </tr>\n",
       "  </thead>\n",
       "  <tbody>\n",
       "    <tr>\n",
       "      <th>0</th>\n",
       "      <td>1</td>\n",
       "      <td>0</td>\n",
       "      <td>3</td>\n",
       "      <td>Braund, Mr. Owen Harris</td>\n",
       "      <td>male</td>\n",
       "      <td>22.0</td>\n",
       "      <td>1</td>\n",
       "      <td>0</td>\n",
       "      <td>A/5 21171</td>\n",
       "      <td>7.2500</td>\n",
       "      <td>NaN</td>\n",
       "      <td>S</td>\n",
       "    </tr>\n",
       "    <tr>\n",
       "      <th>1</th>\n",
       "      <td>2</td>\n",
       "      <td>1</td>\n",
       "      <td>1</td>\n",
       "      <td>Cumings, Mrs. John Bradley (Florence Briggs Th...</td>\n",
       "      <td>female</td>\n",
       "      <td>38.0</td>\n",
       "      <td>1</td>\n",
       "      <td>0</td>\n",
       "      <td>PC 17599</td>\n",
       "      <td>71.2833</td>\n",
       "      <td>C85</td>\n",
       "      <td>C</td>\n",
       "    </tr>\n",
       "    <tr>\n",
       "      <th>2</th>\n",
       "      <td>3</td>\n",
       "      <td>1</td>\n",
       "      <td>3</td>\n",
       "      <td>Heikkinen, Miss. Laina</td>\n",
       "      <td>female</td>\n",
       "      <td>26.0</td>\n",
       "      <td>0</td>\n",
       "      <td>0</td>\n",
       "      <td>STON/O2. 3101282</td>\n",
       "      <td>7.9250</td>\n",
       "      <td>NaN</td>\n",
       "      <td>S</td>\n",
       "    </tr>\n",
       "    <tr>\n",
       "      <th>3</th>\n",
       "      <td>4</td>\n",
       "      <td>1</td>\n",
       "      <td>1</td>\n",
       "      <td>Futrelle, Mrs. Jacques Heath (Lily May Peel)</td>\n",
       "      <td>female</td>\n",
       "      <td>35.0</td>\n",
       "      <td>1</td>\n",
       "      <td>0</td>\n",
       "      <td>113803</td>\n",
       "      <td>53.1000</td>\n",
       "      <td>C123</td>\n",
       "      <td>S</td>\n",
       "    </tr>\n",
       "    <tr>\n",
       "      <th>4</th>\n",
       "      <td>5</td>\n",
       "      <td>0</td>\n",
       "      <td>3</td>\n",
       "      <td>Allen, Mr. William Henry</td>\n",
       "      <td>male</td>\n",
       "      <td>35.0</td>\n",
       "      <td>0</td>\n",
       "      <td>0</td>\n",
       "      <td>373450</td>\n",
       "      <td>8.0500</td>\n",
       "      <td>NaN</td>\n",
       "      <td>S</td>\n",
       "    </tr>\n",
       "  </tbody>\n",
       "</table>\n",
       "</div>"
      ],
      "text/plain": [
       "   PassengerId  Survived  Pclass  \\\n",
       "0            1         0       3   \n",
       "1            2         1       1   \n",
       "2            3         1       3   \n",
       "3            4         1       1   \n",
       "4            5         0       3   \n",
       "\n",
       "                                                Name     Sex   Age  SibSp  \\\n",
       "0                            Braund, Mr. Owen Harris    male  22.0      1   \n",
       "1  Cumings, Mrs. John Bradley (Florence Briggs Th...  female  38.0      1   \n",
       "2                             Heikkinen, Miss. Laina  female  26.0      0   \n",
       "3       Futrelle, Mrs. Jacques Heath (Lily May Peel)  female  35.0      1   \n",
       "4                           Allen, Mr. William Henry    male  35.0      0   \n",
       "\n",
       "   Parch            Ticket     Fare Cabin Embarked  \n",
       "0      0         A/5 21171   7.2500   NaN        S  \n",
       "1      0          PC 17599  71.2833   C85        C  \n",
       "2      0  STON/O2. 3101282   7.9250   NaN        S  \n",
       "3      0            113803  53.1000  C123        S  \n",
       "4      0            373450   8.0500   NaN        S  "
      ]
     },
     "execution_count": 3,
     "metadata": {},
     "output_type": "execute_result"
    }
   ],
   "source": [
    "df=pd.read_csv('https://raw.githubusercontent.com/dsrscientist/dataset1/master/titanic_train.csv')\n",
    "#Visualizing first 5 rows of dataset\n",
    "df.head()"
   ]
  },
  {
   "cell_type": "markdown",
   "id": "14323ab5",
   "metadata": {},
   "source": [
    "# Checking Null Values in the DataFrame"
   ]
  },
  {
   "cell_type": "code",
   "execution_count": 4,
   "id": "43b475e4",
   "metadata": {},
   "outputs": [
    {
     "data": {
      "text/plain": [
       "PassengerId      0\n",
       "Survived         0\n",
       "Pclass           0\n",
       "Name             0\n",
       "Sex              0\n",
       "Age            177\n",
       "SibSp            0\n",
       "Parch            0\n",
       "Ticket           0\n",
       "Fare             0\n",
       "Cabin          687\n",
       "Embarked         2\n",
       "dtype: int64"
      ]
     },
     "execution_count": 4,
     "metadata": {},
     "output_type": "execute_result"
    }
   ],
   "source": [
    "df.isnull().sum()"
   ]
  },
  {
   "cell_type": "markdown",
   "id": "aeeae0bb",
   "metadata": {},
   "source": [
    "We can see a lot of null values in the columns Age and Cabin, only 2 null values in Embarked column. As there are maximum number of null values in the cabin column which is of no use so we drop the column."
   ]
  },
  {
   "cell_type": "code",
   "execution_count": 5,
   "id": "5cc86d6d",
   "metadata": {},
   "outputs": [],
   "source": [
    "df.drop('Cabin',axis=1,inplace=True)"
   ]
  },
  {
   "cell_type": "code",
   "execution_count": 6,
   "id": "05c21d4a",
   "metadata": {},
   "outputs": [
    {
     "data": {
      "text/html": [
       "<div>\n",
       "<style scoped>\n",
       "    .dataframe tbody tr th:only-of-type {\n",
       "        vertical-align: middle;\n",
       "    }\n",
       "\n",
       "    .dataframe tbody tr th {\n",
       "        vertical-align: top;\n",
       "    }\n",
       "\n",
       "    .dataframe thead th {\n",
       "        text-align: right;\n",
       "    }\n",
       "</style>\n",
       "<table border=\"1\" class=\"dataframe\">\n",
       "  <thead>\n",
       "    <tr style=\"text-align: right;\">\n",
       "      <th></th>\n",
       "      <th>PassengerId</th>\n",
       "      <th>Survived</th>\n",
       "      <th>Pclass</th>\n",
       "      <th>Name</th>\n",
       "      <th>Sex</th>\n",
       "      <th>Age</th>\n",
       "      <th>SibSp</th>\n",
       "      <th>Parch</th>\n",
       "      <th>Ticket</th>\n",
       "      <th>Fare</th>\n",
       "      <th>Embarked</th>\n",
       "    </tr>\n",
       "  </thead>\n",
       "  <tbody>\n",
       "    <tr>\n",
       "      <th>0</th>\n",
       "      <td>1</td>\n",
       "      <td>0</td>\n",
       "      <td>3</td>\n",
       "      <td>Braund, Mr. Owen Harris</td>\n",
       "      <td>male</td>\n",
       "      <td>22.0</td>\n",
       "      <td>1</td>\n",
       "      <td>0</td>\n",
       "      <td>A/5 21171</td>\n",
       "      <td>7.2500</td>\n",
       "      <td>S</td>\n",
       "    </tr>\n",
       "    <tr>\n",
       "      <th>1</th>\n",
       "      <td>2</td>\n",
       "      <td>1</td>\n",
       "      <td>1</td>\n",
       "      <td>Cumings, Mrs. John Bradley (Florence Briggs Th...</td>\n",
       "      <td>female</td>\n",
       "      <td>38.0</td>\n",
       "      <td>1</td>\n",
       "      <td>0</td>\n",
       "      <td>PC 17599</td>\n",
       "      <td>71.2833</td>\n",
       "      <td>C</td>\n",
       "    </tr>\n",
       "    <tr>\n",
       "      <th>2</th>\n",
       "      <td>3</td>\n",
       "      <td>1</td>\n",
       "      <td>3</td>\n",
       "      <td>Heikkinen, Miss. Laina</td>\n",
       "      <td>female</td>\n",
       "      <td>26.0</td>\n",
       "      <td>0</td>\n",
       "      <td>0</td>\n",
       "      <td>STON/O2. 3101282</td>\n",
       "      <td>7.9250</td>\n",
       "      <td>S</td>\n",
       "    </tr>\n",
       "    <tr>\n",
       "      <th>3</th>\n",
       "      <td>4</td>\n",
       "      <td>1</td>\n",
       "      <td>1</td>\n",
       "      <td>Futrelle, Mrs. Jacques Heath (Lily May Peel)</td>\n",
       "      <td>female</td>\n",
       "      <td>35.0</td>\n",
       "      <td>1</td>\n",
       "      <td>0</td>\n",
       "      <td>113803</td>\n",
       "      <td>53.1000</td>\n",
       "      <td>S</td>\n",
       "    </tr>\n",
       "    <tr>\n",
       "      <th>4</th>\n",
       "      <td>5</td>\n",
       "      <td>0</td>\n",
       "      <td>3</td>\n",
       "      <td>Allen, Mr. William Henry</td>\n",
       "      <td>male</td>\n",
       "      <td>35.0</td>\n",
       "      <td>0</td>\n",
       "      <td>0</td>\n",
       "      <td>373450</td>\n",
       "      <td>8.0500</td>\n",
       "      <td>S</td>\n",
       "    </tr>\n",
       "  </tbody>\n",
       "</table>\n",
       "</div>"
      ],
      "text/plain": [
       "   PassengerId  Survived  Pclass  \\\n",
       "0            1         0       3   \n",
       "1            2         1       1   \n",
       "2            3         1       3   \n",
       "3            4         1       1   \n",
       "4            5         0       3   \n",
       "\n",
       "                                                Name     Sex   Age  SibSp  \\\n",
       "0                            Braund, Mr. Owen Harris    male  22.0      1   \n",
       "1  Cumings, Mrs. John Bradley (Florence Briggs Th...  female  38.0      1   \n",
       "2                             Heikkinen, Miss. Laina  female  26.0      0   \n",
       "3       Futrelle, Mrs. Jacques Heath (Lily May Peel)  female  35.0      1   \n",
       "4                           Allen, Mr. William Henry    male  35.0      0   \n",
       "\n",
       "   Parch            Ticket     Fare Embarked  \n",
       "0      0         A/5 21171   7.2500        S  \n",
       "1      0          PC 17599  71.2833        C  \n",
       "2      0  STON/O2. 3101282   7.9250        S  \n",
       "3      0            113803  53.1000        S  \n",
       "4      0            373450   8.0500        S  "
      ]
     },
     "execution_count": 6,
     "metadata": {},
     "output_type": "execute_result"
    }
   ],
   "source": [
    "df.head()"
   ]
  },
  {
   "cell_type": "markdown",
   "id": "554ab3ab",
   "metadata": {},
   "source": [
    "We cannot see cabin column in the above dataset, hence the column is dropped."
   ]
  },
  {
   "cell_type": "code",
   "execution_count": 7,
   "id": "74511783",
   "metadata": {},
   "outputs": [
    {
     "data": {
      "text/plain": [
       "Index(['PassengerId', 'Survived', 'Pclass', 'Name', 'Sex', 'Age', 'SibSp',\n",
       "       'Parch', 'Ticket', 'Fare', 'Embarked'],\n",
       "      dtype='object')"
      ]
     },
     "execution_count": 7,
     "metadata": {},
     "output_type": "execute_result"
    }
   ],
   "source": [
    "df.columns"
   ]
  },
  {
   "cell_type": "code",
   "execution_count": 8,
   "id": "22bd302f",
   "metadata": {},
   "outputs": [
    {
     "data": {
      "text/plain": [
       "PassengerId      int64\n",
       "Survived         int64\n",
       "Pclass           int64\n",
       "Name            object\n",
       "Sex             object\n",
       "Age            float64\n",
       "SibSp            int64\n",
       "Parch            int64\n",
       "Ticket          object\n",
       "Fare           float64\n",
       "Embarked        object\n",
       "dtype: object"
      ]
     },
     "execution_count": 8,
     "metadata": {},
     "output_type": "execute_result"
    }
   ],
   "source": [
    "df.dtypes"
   ]
  },
  {
   "cell_type": "markdown",
   "id": "f5293cdf",
   "metadata": {},
   "source": [
    "Handling the Nan values and replacing the Age column with the mean of the column and Embarked column with mode of the column"
   ]
  },
  {
   "cell_type": "code",
   "execution_count": 9,
   "id": "b4a36b3c",
   "metadata": {},
   "outputs": [],
   "source": [
    "df['Age']=df['Age'].fillna(np.mean(df['Age']))"
   ]
  },
  {
   "cell_type": "markdown",
   "id": "8aa25060",
   "metadata": {},
   "source": [
    "In Embarked column we see blank spaces so we are replacing it with the Nan values"
   ]
  },
  {
   "cell_type": "code",
   "execution_count": 10,
   "id": "e98933df",
   "metadata": {},
   "outputs": [],
   "source": [
    "df['Embarked']=df['Embarked'].replace(\" \",np.nan)"
   ]
  },
  {
   "cell_type": "code",
   "execution_count": 11,
   "id": "9a2e4104",
   "metadata": {},
   "outputs": [],
   "source": [
    "df['Embarked']=df['Embarked'].fillna(df['Embarked'].mode()[0])"
   ]
  },
  {
   "cell_type": "code",
   "execution_count": 12,
   "id": "58968692",
   "metadata": {},
   "outputs": [
    {
     "data": {
      "text/plain": [
       "PassengerId    0\n",
       "Survived       0\n",
       "Pclass         0\n",
       "Name           0\n",
       "Sex            0\n",
       "Age            0\n",
       "SibSp          0\n",
       "Parch          0\n",
       "Ticket         0\n",
       "Fare           0\n",
       "Embarked       0\n",
       "dtype: int64"
      ]
     },
     "execution_count": 12,
     "metadata": {},
     "output_type": "execute_result"
    }
   ],
   "source": [
    "df.isnull().sum()"
   ]
  },
  {
   "cell_type": "markdown",
   "id": "77066c3a",
   "metadata": {},
   "source": [
    "Hence we have no null values, we can proceed towards visualization"
   ]
  },
  {
   "cell_type": "code",
   "execution_count": 13,
   "id": "8837a029",
   "metadata": {},
   "outputs": [
    {
     "data": {
      "text/plain": [
       "PassengerId      int64\n",
       "Survived         int64\n",
       "Pclass           int64\n",
       "Name            object\n",
       "Sex             object\n",
       "Age            float64\n",
       "SibSp            int64\n",
       "Parch            int64\n",
       "Ticket          object\n",
       "Fare           float64\n",
       "Embarked        object\n",
       "dtype: object"
      ]
     },
     "execution_count": 13,
     "metadata": {},
     "output_type": "execute_result"
    }
   ],
   "source": [
    "df.dtypes"
   ]
  },
  {
   "cell_type": "markdown",
   "id": "01849e78",
   "metadata": {},
   "source": [
    "Making DataFrame for the Nominal Data"
   ]
  },
  {
   "cell_type": "code",
   "execution_count": 14,
   "id": "2c8dff58",
   "metadata": {},
   "outputs": [],
   "source": [
    "df_nominal=df[['Survived', 'Pclass','Sex','SibSp','Parch','Embarked']].copy()"
   ]
  },
  {
   "cell_type": "code",
   "execution_count": 15,
   "id": "1043bde1",
   "metadata": {},
   "outputs": [
    {
     "data": {
      "text/plain": [
       "Index(['Survived', 'Pclass', 'Sex', 'SibSp', 'Parch', 'Embarked'], dtype='object')"
      ]
     },
     "execution_count": 15,
     "metadata": {},
     "output_type": "execute_result"
    }
   ],
   "source": [
    "df_nominal.columns"
   ]
  },
  {
   "cell_type": "markdown",
   "id": "0a784dbd",
   "metadata": {},
   "source": [
    "# Visualization of Data"
   ]
  },
  {
   "cell_type": "markdown",
   "id": "9cd8e6f7",
   "metadata": {},
   "source": [
    "For the nominal categorical data we will use countplot as it will give frequency of the columns."
   ]
  },
  {
   "cell_type": "code",
   "execution_count": 16,
   "id": "47919542",
   "metadata": {},
   "outputs": [],
   "source": [
    "import seaborn as sns"
   ]
  },
  {
   "cell_type": "code",
   "execution_count": 17,
   "id": "a70d5f6a",
   "metadata": {},
   "outputs": [
    {
     "name": "stdout",
     "output_type": "stream",
     "text": [
      "0    549\n",
      "1    342\n",
      "Name: Survived, dtype: int64\n"
     ]
    },
    {
     "data": {
      "image/png": "[encoded data removed]",
      "text/plain": [
       "<Figure size 432x288 with 1 Axes>"
      ]
     },
     "metadata": {
      "needs_background": "light"
     },
     "output_type": "display_data"
    }
   ],
   "source": [
    "ax=sns.countplot(x='Survived', data=df_nominal)\n",
    "print(df_nominal['Survived'].value_counts())"
   ]
  },
  {
   "cell_type": "markdown",
   "id": "71a8d9c4",
   "metadata": {},
   "source": [
    "From the above observation, Total number of people survived are 342 and not survived are 549"
   ]
  },
  {
   "cell_type": "code",
   "execution_count": 19,
   "id": "5cbeae01",
   "metadata": {},
   "outputs": [
    {
     "name": "stdout",
     "output_type": "stream",
     "text": [
      "3    491\n",
      "1    216\n",
      "2    184\n",
      "Name: Pclass, dtype: int64\n"
     ]
    },
    {
     "data": {
      "image/png": "[encoded data removed]",
      "text/plain": [
       "<Figure size 432x288 with 1 Axes>"
      ]
     },
     "metadata": {
      "needs_background": "light"
     },
     "output_type": "display_data"
    }
   ],
   "source": [
    "ax=sns.countplot(x='Pclass', data=df_nominal)\n",
    "print(df_nominal['Pclass'].value_counts())"
   ]
  },
  {
   "cell_type": "markdown",
   "id": "d80d115a",
   "metadata": {},
   "source": [
    "491 people belong to the 3rd class, 184 from the 2nd class and 216 from the 1st class. Maximum people belong to the third class category."
   ]
  },
  {
   "cell_type": "code",
   "execution_count": 20,
   "id": "d7498fbe",
   "metadata": {},
   "outputs": [
    {
     "name": "stdout",
     "output_type": "stream",
     "text": [
      "male      577\n",
      "female    314\n",
      "Name: Sex, dtype: int64\n"
     ]
    },
    {
     "data": {
      "image/png": "[encoded data removed]",
      "text/plain": [
       "<Figure size 432x288 with 1 Axes>"
      ]
     },
     "metadata": {
      "needs_background": "light"
     },
     "output_type": "display_data"
    }
   ],
   "source": [
    "ax=sns.countplot(x='Sex', data=df_nominal)\n",
    "print(df_nominal['Sex'].value_counts())"
   ]
  },
  {
   "cell_type": "markdown",
   "id": "6341f4b5",
   "metadata": {},
   "source": [
    " 577 are Male and 314 are Female. Most of them on the ship are Male."
   ]
  },
  {
   "cell_type": "code",
   "execution_count": 21,
   "id": "3954cbcf",
   "metadata": {},
   "outputs": [
    {
     "name": "stdout",
     "output_type": "stream",
     "text": [
      "0    608\n",
      "1    209\n",
      "2     28\n",
      "4     18\n",
      "3     16\n",
      "8      7\n",
      "5      5\n",
      "Name: SibSp, dtype: int64\n"
     ]
    },
    {
     "data": {
      "image/png": "[encoded data removed]",
      "text/plain": [
       "<Figure size 432x288 with 1 Axes>"
      ]
     },
     "metadata": {
      "needs_background": "light"
     },
     "output_type": "display_data"
    }
   ],
   "source": [
    "ax=sns.countplot(x='SibSp', data=df_nominal)\n",
    "print(df_nominal['SibSp'].value_counts())"
   ]
  },
  {
   "cell_type": "markdown",
   "id": "da608abe",
   "metadata": {},
   "source": [
    "We can see that most of them do not have a sibling i.e. 608, 209 of them have 1 sibling, 28 have 2 sibling, 16 have 3 siblings, 18 have 4 siblings, 5 have 5 siblings and 8 of them have 7 siblings"
   ]
  },
  {
   "cell_type": "code",
   "execution_count": 22,
   "id": "085b2272",
   "metadata": {},
   "outputs": [
    {
     "name": "stdout",
     "output_type": "stream",
     "text": [
      "0    678\n",
      "1    118\n",
      "2     80\n",
      "5      5\n",
      "3      5\n",
      "4      4\n",
      "6      1\n",
      "Name: Parch, dtype: int64\n"
     ]
    },
    {
     "data": {
      "image/png": "[encoded data removed]",
      "text/plain": [
       "<Figure size 432x288 with 1 Axes>"
      ]
     },
     "metadata": {
      "needs_background": "light"
     },
     "output_type": "display_data"
    }
   ],
   "source": [
    "ax=sns.countplot(x='Parch', data=df_nominal)\n",
    "print(df_nominal['Parch'].value_counts())"
   ]
  },
  {
   "cell_type": "markdown",
   "id": "47bf97a2",
   "metadata": {},
   "source": [
    "Most of them don't have their parents or chidren abroad, 118 have 1 person abroad, 80 have 2 people abroad, 5 have 5 abroad, 5 of them have 3 abroad, 4 have 4 and only 1 has 6 people staying abroad."
   ]
  },
  {
   "cell_type": "code",
   "execution_count": 23,
   "id": "5ca5cd4c",
   "metadata": {},
   "outputs": [
    {
     "name": "stdout",
     "output_type": "stream",
     "text": [
      "S    646\n",
      "C    168\n",
      "Q     77\n",
      "Name: Embarked, dtype: int64\n"
     ]
    },
    {
     "data": {
      "image/png": "[encoded data removed]",
      "text/plain": [
       "<Figure size 432x288 with 1 Axes>"
      ]
     },
     "metadata": {
      "needs_background": "light"
     },
     "output_type": "display_data"
    }
   ],
   "source": [
    "ax=sns.countplot(x='Embarked', data=df_nominal)\n",
    "print(df_nominal['Embarked'].value_counts())"
   ]
  },
  {
   "cell_type": "markdown",
   "id": "67e1cc3e",
   "metadata": {},
   "source": [
    "646 has embarked from the S port, 168 from the C port and 77 from the Q port. Most of the are from S port."
   ]
  },
  {
   "cell_type": "markdown",
   "id": "d4981b43",
   "metadata": {},
   "source": [
    "Making DataFrame of the Ordinal Data"
   ]
  },
  {
   "cell_type": "code",
   "execution_count": 24,
   "id": "07a6cf1c",
   "metadata": {},
   "outputs": [],
   "source": [
    "df_ordinal=df[['PassengerId','Name','Ticket']].copy()"
   ]
  },
  {
   "cell_type": "code",
   "execution_count": 25,
   "id": "f6b82e8c",
   "metadata": {},
   "outputs": [
    {
     "data": {
      "text/plain": [
       "<seaborn.axisgrid.FacetGrid at 0x1fc3a157f40>"
      ]
     },
     "execution_count": 25,
     "metadata": {},
     "output_type": "execute_result"
    },
    {
     "data": {
      "image/png": "[encoded data removed]",
      "text/plain": [
       "<Figure size 360x360 with 1 Axes>"
      ]
     },
     "metadata": {
      "needs_background": "light"
     },
     "output_type": "display_data"
    }
   ],
   "source": [
    "sns.catplot(x='Sex',y='PassengerId',data=df)"
   ]
  },
  {
   "cell_type": "markdown",
   "id": "0824859b",
   "metadata": {},
   "source": [
    "# Checking the distribution of the continuous value of the float type columns"
   ]
  },
  {
   "cell_type": "code",
   "execution_count": 26,
   "id": "29b71483",
   "metadata": {},
   "outputs": [],
   "source": [
    "df_continuous=[['Age','Fare']].copy()"
   ]
  },
  {
   "cell_type": "code",
   "execution_count": 27,
   "id": "f8b28197",
   "metadata": {},
   "outputs": [
    {
     "name": "stderr",
     "output_type": "stream",
     "text": [
      "C:\\Users\\user\\anaconda3\\lib\\site-packages\\seaborn\\distributions.py:2619: FutureWarning: `distplot` is a deprecated function and will be removed in a future version. Please adapt your code to use either `displot` (a figure-level function with similar flexibility) or `histplot` (an axes-level function for histograms).\n",
      "  warnings.warn(msg, FutureWarning)\n"
     ]
    },
    {
     "data": {
      "text/plain": [
       "<AxesSubplot:xlabel='Fare', ylabel='Density'>"
      ]
     },
     "execution_count": 27,
     "metadata": {},
     "output_type": "execute_result"
    },
    {
     "data": {
      "image/png": "[encoded data removed]",
      "text/plain": [
       "<Figure size 432x288 with 1 Axes>"
      ]
     },
     "metadata": {
      "needs_background": "light"
     },
     "output_type": "display_data"
    }
   ],
   "source": [
    "import seaborn as sns\n",
    "sns.distplot(df['Fare'],kde=True)"
   ]
  },
  {
   "cell_type": "markdown",
   "id": "4e997b45",
   "metadata": {},
   "source": [
    "The fare is high for only around 50 to 60 people"
   ]
  },
  {
   "cell_type": "code",
   "execution_count": 28,
   "id": "9f3ef417",
   "metadata": {},
   "outputs": [
    {
     "name": "stderr",
     "output_type": "stream",
     "text": [
      "C:\\Users\\user\\anaconda3\\lib\\site-packages\\seaborn\\distributions.py:2619: FutureWarning: `distplot` is a deprecated function and will be removed in a future version. Please adapt your code to use either `displot` (a figure-level function with similar flexibility) or `histplot` (an axes-level function for histograms).\n",
      "  warnings.warn(msg, FutureWarning)\n"
     ]
    },
    {
     "data": {
      "text/plain": [
       "<AxesSubplot:xlabel='Age', ylabel='Density'>"
      ]
     },
     "execution_count": 28,
     "metadata": {},
     "output_type": "execute_result"
    },
    {
     "data": {
      "image/png": "[encoded data removed]",
      "text/plain": [
       "<Figure size 432x288 with 1 Axes>"
      ]
     },
     "metadata": {
      "needs_background": "light"
     },
     "output_type": "display_data"
    }
   ],
   "source": [
    "sns.distplot(df['Age'],kde=True)"
   ]
  },
  {
   "cell_type": "markdown",
   "id": "254716af",
   "metadata": {},
   "source": [
    "Most of the people are between the age 20 to 40."
   ]
  },
  {
   "cell_type": "markdown",
   "id": "5826d2ef",
   "metadata": {},
   "source": [
    "Since the dataset has alot of string values, we will use the encoding techniques to convert the string data to numerical one."
   ]
  },
  {
   "cell_type": "markdown",
   "id": "9d47232d",
   "metadata": {},
   "source": [
    "# Encoding of DataFrame"
   ]
  },
  {
   "cell_type": "code",
   "execution_count": 29,
   "id": "d4bcbd0e",
   "metadata": {},
   "outputs": [],
   "source": [
    "from sklearn.preprocessing import OrdinalEncoder\n",
    "enc=OrdinalEncoder()"
   ]
  },
  {
   "cell_type": "code",
   "execution_count": 30,
   "id": "638f6c67",
   "metadata": {},
   "outputs": [],
   "source": [
    "for i in df.columns:\n",
    "    if df[i].dtypes=='object':\n",
    "        df[i]=enc.fit_transform(df[i].values.reshape(-1,1))"
   ]
  },
  {
   "cell_type": "code",
   "execution_count": 31,
   "id": "1e444dc2",
   "metadata": {},
   "outputs": [
    {
     "data": {
      "text/html": [
       "<div>\n",
       "<style scoped>\n",
       "    .dataframe tbody tr th:only-of-type {\n",
       "        vertical-align: middle;\n",
       "    }\n",
       "\n",
       "    .dataframe tbody tr th {\n",
       "        vertical-align: top;\n",
       "    }\n",
       "\n",
       "    .dataframe thead th {\n",
       "        text-align: right;\n",
       "    }\n",
       "</style>\n",
       "<table border=\"1\" class=\"dataframe\">\n",
       "  <thead>\n",
       "    <tr style=\"text-align: right;\">\n",
       "      <th></th>\n",
       "      <th>PassengerId</th>\n",
       "      <th>Survived</th>\n",
       "      <th>Pclass</th>\n",
       "      <th>Name</th>\n",
       "      <th>Sex</th>\n",
       "      <th>Age</th>\n",
       "      <th>SibSp</th>\n",
       "      <th>Parch</th>\n",
       "      <th>Ticket</th>\n",
       "      <th>Fare</th>\n",
       "      <th>Embarked</th>\n",
       "    </tr>\n",
       "  </thead>\n",
       "  <tbody>\n",
       "    <tr>\n",
       "      <th>0</th>\n",
       "      <td>1</td>\n",
       "      <td>0</td>\n",
       "      <td>3</td>\n",
       "      <td>108.0</td>\n",
       "      <td>1.0</td>\n",
       "      <td>22.000000</td>\n",
       "      <td>1</td>\n",
       "      <td>0</td>\n",
       "      <td>523.0</td>\n",
       "      <td>7.2500</td>\n",
       "      <td>2.0</td>\n",
       "    </tr>\n",
       "    <tr>\n",
       "      <th>1</th>\n",
       "      <td>2</td>\n",
       "      <td>1</td>\n",
       "      <td>1</td>\n",
       "      <td>190.0</td>\n",
       "      <td>0.0</td>\n",
       "      <td>38.000000</td>\n",
       "      <td>1</td>\n",
       "      <td>0</td>\n",
       "      <td>596.0</td>\n",
       "      <td>71.2833</td>\n",
       "      <td>0.0</td>\n",
       "    </tr>\n",
       "    <tr>\n",
       "      <th>2</th>\n",
       "      <td>3</td>\n",
       "      <td>1</td>\n",
       "      <td>3</td>\n",
       "      <td>353.0</td>\n",
       "      <td>0.0</td>\n",
       "      <td>26.000000</td>\n",
       "      <td>0</td>\n",
       "      <td>0</td>\n",
       "      <td>669.0</td>\n",
       "      <td>7.9250</td>\n",
       "      <td>2.0</td>\n",
       "    </tr>\n",
       "    <tr>\n",
       "      <th>3</th>\n",
       "      <td>4</td>\n",
       "      <td>1</td>\n",
       "      <td>1</td>\n",
       "      <td>272.0</td>\n",
       "      <td>0.0</td>\n",
       "      <td>35.000000</td>\n",
       "      <td>1</td>\n",
       "      <td>0</td>\n",
       "      <td>49.0</td>\n",
       "      <td>53.1000</td>\n",
       "      <td>2.0</td>\n",
       "    </tr>\n",
       "    <tr>\n",
       "      <th>4</th>\n",
       "      <td>5</td>\n",
       "      <td>0</td>\n",
       "      <td>3</td>\n",
       "      <td>15.0</td>\n",
       "      <td>1.0</td>\n",
       "      <td>35.000000</td>\n",
       "      <td>0</td>\n",
       "      <td>0</td>\n",
       "      <td>472.0</td>\n",
       "      <td>8.0500</td>\n",
       "      <td>2.0</td>\n",
       "    </tr>\n",
       "    <tr>\n",
       "      <th>...</th>\n",
       "      <td>...</td>\n",
       "      <td>...</td>\n",
       "      <td>...</td>\n",
       "      <td>...</td>\n",
       "      <td>...</td>\n",
       "      <td>...</td>\n",
       "      <td>...</td>\n",
       "      <td>...</td>\n",
       "      <td>...</td>\n",
       "      <td>...</td>\n",
       "      <td>...</td>\n",
       "    </tr>\n",
       "    <tr>\n",
       "      <th>886</th>\n",
       "      <td>887</td>\n",
       "      <td>0</td>\n",
       "      <td>2</td>\n",
       "      <td>548.0</td>\n",
       "      <td>1.0</td>\n",
       "      <td>27.000000</td>\n",
       "      <td>0</td>\n",
       "      <td>0</td>\n",
       "      <td>101.0</td>\n",
       "      <td>13.0000</td>\n",
       "      <td>2.0</td>\n",
       "    </tr>\n",
       "    <tr>\n",
       "      <th>887</th>\n",
       "      <td>888</td>\n",
       "      <td>1</td>\n",
       "      <td>1</td>\n",
       "      <td>303.0</td>\n",
       "      <td>0.0</td>\n",
       "      <td>19.000000</td>\n",
       "      <td>0</td>\n",
       "      <td>0</td>\n",
       "      <td>14.0</td>\n",
       "      <td>30.0000</td>\n",
       "      <td>2.0</td>\n",
       "    </tr>\n",
       "    <tr>\n",
       "      <th>888</th>\n",
       "      <td>889</td>\n",
       "      <td>0</td>\n",
       "      <td>3</td>\n",
       "      <td>413.0</td>\n",
       "      <td>0.0</td>\n",
       "      <td>29.699118</td>\n",
       "      <td>1</td>\n",
       "      <td>2</td>\n",
       "      <td>675.0</td>\n",
       "      <td>23.4500</td>\n",
       "      <td>2.0</td>\n",
       "    </tr>\n",
       "    <tr>\n",
       "      <th>889</th>\n",
       "      <td>890</td>\n",
       "      <td>1</td>\n",
       "      <td>1</td>\n",
       "      <td>81.0</td>\n",
       "      <td>1.0</td>\n",
       "      <td>26.000000</td>\n",
       "      <td>0</td>\n",
       "      <td>0</td>\n",
       "      <td>8.0</td>\n",
       "      <td>30.0000</td>\n",
       "      <td>0.0</td>\n",
       "    </tr>\n",
       "    <tr>\n",
       "      <th>890</th>\n",
       "      <td>891</td>\n",
       "      <td>0</td>\n",
       "      <td>3</td>\n",
       "      <td>220.0</td>\n",
       "      <td>1.0</td>\n",
       "      <td>32.000000</td>\n",
       "      <td>0</td>\n",
       "      <td>0</td>\n",
       "      <td>466.0</td>\n",
       "      <td>7.7500</td>\n",
       "      <td>1.0</td>\n",
       "    </tr>\n",
       "  </tbody>\n",
       "</table>\n",
       "<p>891 rows × 11 columns</p>\n",
       "</div>"
      ],
      "text/plain": [
       "     PassengerId  Survived  Pclass   Name  Sex        Age  SibSp  Parch  \\\n",
       "0              1         0       3  108.0  1.0  22.000000      1      0   \n",
       "1              2         1       1  190.0  0.0  38.000000      1      0   \n",
       "2              3         1       3  353.0  0.0  26.000000      0      0   \n",
       "3              4         1       1  272.0  0.0  35.000000      1      0   \n",
       "4              5         0       3   15.0  1.0  35.000000      0      0   \n",
       "..           ...       ...     ...    ...  ...        ...    ...    ...   \n",
       "886          887         0       2  548.0  1.0  27.000000      0      0   \n",
       "887          888         1       1  303.0  0.0  19.000000      0      0   \n",
       "888          889         0       3  413.0  0.0  29.699118      1      2   \n",
       "889          890         1       1   81.0  1.0  26.000000      0      0   \n",
       "890          891         0       3  220.0  1.0  32.000000      0      0   \n",
       "\n",
       "     Ticket     Fare  Embarked  \n",
       "0     523.0   7.2500       2.0  \n",
       "1     596.0  71.2833       0.0  \n",
       "2     669.0   7.9250       2.0  \n",
       "3      49.0  53.1000       2.0  \n",
       "4     472.0   8.0500       2.0  \n",
       "..      ...      ...       ...  \n",
       "886   101.0  13.0000       2.0  \n",
       "887    14.0  30.0000       2.0  \n",
       "888   675.0  23.4500       2.0  \n",
       "889     8.0  30.0000       0.0  \n",
       "890   466.0   7.7500       1.0  \n",
       "\n",
       "[891 rows x 11 columns]"
      ]
     },
     "execution_count": 31,
     "metadata": {},
     "output_type": "execute_result"
    }
   ],
   "source": [
    "df"
   ]
  },
  {
   "cell_type": "markdown",
   "id": "284f0c60",
   "metadata": {},
   "source": [
    "# Describe Data\n"
   ]
  },
  {
   "cell_type": "code",
   "execution_count": 33,
   "id": "cbeaf211",
   "metadata": {},
   "outputs": [
    {
     "data": {
      "text/html": [
       "<div>\n",
       "<style scoped>\n",
       "    .dataframe tbody tr th:only-of-type {\n",
       "        vertical-align: middle;\n",
       "    }\n",
       "\n",
       "    .dataframe tbody tr th {\n",
       "        vertical-align: top;\n",
       "    }\n",
       "\n",
       "    .dataframe thead th {\n",
       "        text-align: right;\n",
       "    }\n",
       "</style>\n",
       "<table border=\"1\" class=\"dataframe\">\n",
       "  <thead>\n",
       "    <tr style=\"text-align: right;\">\n",
       "      <th></th>\n",
       "      <th>PassengerId</th>\n",
       "      <th>Survived</th>\n",
       "      <th>Pclass</th>\n",
       "      <th>Name</th>\n",
       "      <th>Sex</th>\n",
       "      <th>Age</th>\n",
       "      <th>SibSp</th>\n",
       "      <th>Parch</th>\n",
       "      <th>Ticket</th>\n",
       "      <th>Fare</th>\n",
       "      <th>Embarked</th>\n",
       "    </tr>\n",
       "  </thead>\n",
       "  <tbody>\n",
       "    <tr>\n",
       "      <th>count</th>\n",
       "      <td>891.000000</td>\n",
       "      <td>891.000000</td>\n",
       "      <td>891.000000</td>\n",
       "      <td>891.000000</td>\n",
       "      <td>891.000000</td>\n",
       "      <td>891.000000</td>\n",
       "      <td>891.000000</td>\n",
       "      <td>891.000000</td>\n",
       "      <td>891.000000</td>\n",
       "      <td>891.000000</td>\n",
       "      <td>891.000000</td>\n",
       "    </tr>\n",
       "    <tr>\n",
       "      <th>mean</th>\n",
       "      <td>446.000000</td>\n",
       "      <td>0.383838</td>\n",
       "      <td>2.308642</td>\n",
       "      <td>445.000000</td>\n",
       "      <td>0.647587</td>\n",
       "      <td>29.699118</td>\n",
       "      <td>0.523008</td>\n",
       "      <td>0.381594</td>\n",
       "      <td>338.528620</td>\n",
       "      <td>32.204208</td>\n",
       "      <td>1.536476</td>\n",
       "    </tr>\n",
       "    <tr>\n",
       "      <th>std</th>\n",
       "      <td>257.353842</td>\n",
       "      <td>0.486592</td>\n",
       "      <td>0.836071</td>\n",
       "      <td>257.353842</td>\n",
       "      <td>0.477990</td>\n",
       "      <td>13.002015</td>\n",
       "      <td>1.102743</td>\n",
       "      <td>0.806057</td>\n",
       "      <td>200.850657</td>\n",
       "      <td>49.693429</td>\n",
       "      <td>0.791503</td>\n",
       "    </tr>\n",
       "    <tr>\n",
       "      <th>min</th>\n",
       "      <td>1.000000</td>\n",
       "      <td>0.000000</td>\n",
       "      <td>1.000000</td>\n",
       "      <td>0.000000</td>\n",
       "      <td>0.000000</td>\n",
       "      <td>0.420000</td>\n",
       "      <td>0.000000</td>\n",
       "      <td>0.000000</td>\n",
       "      <td>0.000000</td>\n",
       "      <td>0.000000</td>\n",
       "      <td>0.000000</td>\n",
       "    </tr>\n",
       "    <tr>\n",
       "      <th>25%</th>\n",
       "      <td>223.500000</td>\n",
       "      <td>0.000000</td>\n",
       "      <td>2.000000</td>\n",
       "      <td>222.500000</td>\n",
       "      <td>0.000000</td>\n",
       "      <td>22.000000</td>\n",
       "      <td>0.000000</td>\n",
       "      <td>0.000000</td>\n",
       "      <td>158.500000</td>\n",
       "      <td>7.910400</td>\n",
       "      <td>1.000000</td>\n",
       "    </tr>\n",
       "    <tr>\n",
       "      <th>50%</th>\n",
       "      <td>446.000000</td>\n",
       "      <td>0.000000</td>\n",
       "      <td>3.000000</td>\n",
       "      <td>445.000000</td>\n",
       "      <td>1.000000</td>\n",
       "      <td>29.699118</td>\n",
       "      <td>0.000000</td>\n",
       "      <td>0.000000</td>\n",
       "      <td>337.000000</td>\n",
       "      <td>14.454200</td>\n",
       "      <td>2.000000</td>\n",
       "    </tr>\n",
       "    <tr>\n",
       "      <th>75%</th>\n",
       "      <td>668.500000</td>\n",
       "      <td>1.000000</td>\n",
       "      <td>3.000000</td>\n",
       "      <td>667.500000</td>\n",
       "      <td>1.000000</td>\n",
       "      <td>35.000000</td>\n",
       "      <td>1.000000</td>\n",
       "      <td>0.000000</td>\n",
       "      <td>519.500000</td>\n",
       "      <td>31.000000</td>\n",
       "      <td>2.000000</td>\n",
       "    </tr>\n",
       "    <tr>\n",
       "      <th>max</th>\n",
       "      <td>891.000000</td>\n",
       "      <td>1.000000</td>\n",
       "      <td>3.000000</td>\n",
       "      <td>890.000000</td>\n",
       "      <td>1.000000</td>\n",
       "      <td>80.000000</td>\n",
       "      <td>8.000000</td>\n",
       "      <td>6.000000</td>\n",
       "      <td>680.000000</td>\n",
       "      <td>512.329200</td>\n",
       "      <td>2.000000</td>\n",
       "    </tr>\n",
       "  </tbody>\n",
       "</table>\n",
       "</div>"
      ],
      "text/plain": [
       "       PassengerId    Survived      Pclass        Name         Sex  \\\n",
       "count   891.000000  891.000000  891.000000  891.000000  891.000000   \n",
       "mean    446.000000    0.383838    2.308642  445.000000    0.647587   \n",
       "std     257.353842    0.486592    0.836071  257.353842    0.477990   \n",
       "min       1.000000    0.000000    1.000000    0.000000    0.000000   \n",
       "25%     223.500000    0.000000    2.000000  222.500000    0.000000   \n",
       "50%     446.000000    0.000000    3.000000  445.000000    1.000000   \n",
       "75%     668.500000    1.000000    3.000000  667.500000    1.000000   \n",
       "max     891.000000    1.000000    3.000000  890.000000    1.000000   \n",
       "\n",
       "              Age       SibSp       Parch      Ticket        Fare    Embarked  \n",
       "count  891.000000  891.000000  891.000000  891.000000  891.000000  891.000000  \n",
       "mean    29.699118    0.523008    0.381594  338.528620   32.204208    1.536476  \n",
       "std     13.002015    1.102743    0.806057  200.850657   49.693429    0.791503  \n",
       "min      0.420000    0.000000    0.000000    0.000000    0.000000    0.000000  \n",
       "25%     22.000000    0.000000    0.000000  158.500000    7.910400    1.000000  \n",
       "50%     29.699118    0.000000    0.000000  337.000000   14.454200    2.000000  \n",
       "75%     35.000000    1.000000    0.000000  519.500000   31.000000    2.000000  \n",
       "max     80.000000    8.000000    6.000000  680.000000  512.329200    2.000000  "
      ]
     },
     "execution_count": 33,
     "metadata": {},
     "output_type": "execute_result"
    }
   ],
   "source": [
    "df.describe()"
   ]
  },
  {
   "cell_type": "code",
   "execution_count": 34,
   "id": "06f42649",
   "metadata": {},
   "outputs": [
    {
     "data": {
      "text/plain": [
       "<AxesSubplot:>"
      ]
     },
     "execution_count": 34,
     "metadata": {},
     "output_type": "execute_result"
    },
    {
     "data": {
      "image/png": "[encoded data removed]",
      "text/plain": [
       "<Figure size 1584x504 with 2 Axes>"
      ]
     },
     "metadata": {
      "needs_background": "light"
     },
     "output_type": "display_data"
    }
   ],
   "source": [
    "import matplotlib.pyplot as plt\n",
    "plt.figure(figsize=(22,7))\n",
    "sns.heatmap(df.describe(),annot=True,linewidths=0.1,linecolor='blue',fmt='0.2f')"
   ]
  },
  {
   "cell_type": "markdown",
   "id": "b8e183f2",
   "metadata": {},
   "source": [
    "With the above heatmap we can see the description of the dataset i.e. mean,median,min,max,std of each column."
   ]
  },
  {
   "cell_type": "markdown",
   "id": "5832d45f",
   "metadata": {},
   "source": [
    "# Correlation of columns with the target variable"
   ]
  },
  {
   "cell_type": "code",
   "execution_count": 35,
   "id": "d4ba2b47",
   "metadata": {},
   "outputs": [
    {
     "data": {
      "text/plain": [
       "<AxesSubplot:>"
      ]
     },
     "execution_count": 35,
     "metadata": {},
     "output_type": "execute_result"
    },
    {
     "data": {
      "image/png": "[encoded data removed]",
      "text/plain": [
       "<Figure size 1584x504 with 2 Axes>"
      ]
     },
     "metadata": {
      "needs_background": "light"
     },
     "output_type": "display_data"
    }
   ],
   "source": [
    "plt.figure(figsize=(22,7))\n",
    "sns.heatmap(df.corr(),annot=True,linewidths=0.1,linecolor='black',fmt='0.2f')"
   ]
  },
  {
   "cell_type": "markdown",
   "id": "444adcef",
   "metadata": {},
   "source": [
    "The most highly correlated column is Fare and the least correlated column is Sex"
   ]
  },
  {
   "cell_type": "code",
   "execution_count": 37,
   "id": "5643800f",
   "metadata": {},
   "outputs": [
    {
     "data": {
      "image/png": "[encoded data removed]",
      "text/plain": [
       "<Figure size 1584x504 with 1 Axes>"
      ]
     },
     "metadata": {
      "needs_background": "light"
     },
     "output_type": "display_data"
    }
   ],
   "source": [
    "plt.figure(figsize=(22,7))\n",
    "df.corr()['Survived'].sort_values(ascending=False).drop(['Survived']).plot(kind='bar',color='c')\n",
    "plt.xlabel('Feature',fontsize=14)\n",
    "plt.ylabel('column with target names',fontsize=14)\n",
    "plt.title('correlation',fontsize=18)\n",
    "plt.show()"
   ]
  },
  {
   "cell_type": "markdown",
   "id": "dff5ec5b",
   "metadata": {},
   "source": [
    "We can see that only Fare and Parch are positively correlated with the Target variable, rest all columns are negatively correlated."
   ]
  },
  {
   "cell_type": "code",
   "execution_count": 38,
   "id": "a4c1d209",
   "metadata": {},
   "outputs": [
    {
     "data": {
      "text/plain": [
       "PassengerId    0.000000\n",
       "Survived       0.478523\n",
       "Pclass        -0.630548\n",
       "Name           0.000000\n",
       "Sex           -0.618921\n",
       "Age            0.434488\n",
       "SibSp          3.695352\n",
       "Parch          2.749117\n",
       "Ticket         0.000246\n",
       "Fare           4.787317\n",
       "Embarked      -1.264823\n",
       "dtype: float64"
      ]
     },
     "execution_count": 38,
     "metadata": {},
     "output_type": "execute_result"
    }
   ],
   "source": [
    "df.skew()"
   ]
  },
  {
   "cell_type": "markdown",
   "id": "b1f90440",
   "metadata": {},
   "source": [
    "Keeping threshold +/-0.5 as the range for skewness, here are the columns which does not lie in this range."
   ]
  },
  {
   "cell_type": "markdown",
   "id": "8a1e3e28",
   "metadata": {},
   "source": [
    "Pclass- Categorial data\n",
    "\n",
    "Sex- Categorial data\n",
    "\n",
    "Sibsp- Categorial data\n",
    "\n",
    "Parch- Categorial data\n",
    "\n",
    "Fare- Continuous data\n",
    "\n",
    "Embarked- Categorial data\n",
    "\n",
    "As Fare can be differnent for different category class. Hence, we will not treat that, there's no skewness in data."
   ]
  },
  {
   "cell_type": "markdown",
   "id": "b0f848e6",
   "metadata": {},
   "source": [
    "# Outliers Check"
   ]
  },
  {
   "cell_type": "code",
   "execution_count": 40,
   "id": "5034645f",
   "metadata": {},
   "outputs": [
    {
     "data": {
      "text/plain": [
       "PassengerId      int64\n",
       "Survived         int64\n",
       "Pclass           int64\n",
       "Name           float64\n",
       "Sex            float64\n",
       "Age            float64\n",
       "SibSp            int64\n",
       "Parch            int64\n",
       "Ticket         float64\n",
       "Fare           float64\n",
       "Embarked       float64\n",
       "dtype: object"
      ]
     },
     "execution_count": 40,
     "metadata": {},
     "output_type": "execute_result"
    }
   ],
   "source": [
    "df.dtypes"
   ]
  },
  {
   "cell_type": "markdown",
   "id": "94e16231",
   "metadata": {},
   "source": [
    "Checking outliers for int and float type of columns."
   ]
  },
  {
   "cell_type": "code",
   "execution_count": 42,
   "id": "564d552d",
   "metadata": {},
   "outputs": [
    {
     "data": {
      "text/plain": [
       "<AxesSubplot:>"
      ]
     },
     "execution_count": 42,
     "metadata": {},
     "output_type": "execute_result"
    },
    {
     "data": {
      "image/png": "[encoded data removed]",
      "text/plain": [
       "<Figure size 432x288 with 1 Axes>"
      ]
     },
     "metadata": {
      "needs_background": "light"
     },
     "output_type": "display_data"
    }
   ],
   "source": [
    "df['Fare'].plot.box()"
   ]
  },
  {
   "cell_type": "code",
   "execution_count": 43,
   "id": "57b71bee",
   "metadata": {},
   "outputs": [
    {
     "data": {
      "text/plain": [
       "<AxesSubplot:>"
      ]
     },
     "execution_count": 43,
     "metadata": {},
     "output_type": "execute_result"
    },
    {
     "data": {
      "image/png": "[encoded data removed]",
      "text/plain": [
       "<Figure size 432x288 with 1 Axes>"
      ]
     },
     "metadata": {
      "needs_background": "light"
     },
     "output_type": "display_data"
    }
   ],
   "source": [
    "df['Age'].plot.box()"
   ]
  },
  {
   "cell_type": "code",
   "execution_count": 44,
   "id": "9ac1bfad",
   "metadata": {},
   "outputs": [
    {
     "data": {
      "text/plain": [
       "PassengerId       AxesSubplot(0.125,0.536818;0.0945122x0.343182)\n",
       "Survived       AxesSubplot(0.238415,0.536818;0.0945122x0.343182)\n",
       "Pclass         AxesSubplot(0.351829,0.536818;0.0945122x0.343182)\n",
       "Name           AxesSubplot(0.465244,0.536818;0.0945122x0.343182)\n",
       "Sex            AxesSubplot(0.578659,0.536818;0.0945122x0.343182)\n",
       "Age            AxesSubplot(0.692073,0.536818;0.0945122x0.343182)\n",
       "SibSp          AxesSubplot(0.805488,0.536818;0.0945122x0.343182)\n",
       "Parch                AxesSubplot(0.125,0.125;0.0945122x0.343182)\n",
       "Ticket            AxesSubplot(0.238415,0.125;0.0945122x0.343182)\n",
       "Fare              AxesSubplot(0.351829,0.125;0.0945122x0.343182)\n",
       "Embarked          AxesSubplot(0.465244,0.125;0.0945122x0.343182)\n",
       "dtype: object"
      ]
     },
     "execution_count": 44,
     "metadata": {},
     "output_type": "execute_result"
    },
    {
     "data": {
      "image/png": "[encoded data removed]",
      "text/plain": [
       "<Figure size 432x288 with 14 Axes>"
      ]
     },
     "metadata": {
      "needs_background": "light"
     },
     "output_type": "display_data"
    }
   ],
   "source": [
    "df.plot(kind='box',subplots=True,layout=(2,7))"
   ]
  },
  {
   "cell_type": "markdown",
   "id": "59cb35d0",
   "metadata": {},
   "source": [
    "Hence, we can only see outliers in Age and Fare column. But as we can have different age people and fare can be different for different class, this data can be essential. So, we don't prefer to treat these outliers."
   ]
  },
  {
   "cell_type": "markdown",
   "id": "39e6accc",
   "metadata": {},
   "source": [
    "# Separating the columns into x & y"
   ]
  },
  {
   "cell_type": "code",
   "execution_count": 45,
   "id": "9bd7453e",
   "metadata": {},
   "outputs": [],
   "source": [
    "x=df.drop('Survived',axis=1)\n",
    "y=df['Survived']"
   ]
  },
  {
   "cell_type": "markdown",
   "id": "a47491e8",
   "metadata": {},
   "source": [
    "# Scaling the data using Standard Scaler"
   ]
  },
  {
   "cell_type": "code",
   "execution_count": 46,
   "id": "229a9f08",
   "metadata": {},
   "outputs": [],
   "source": [
    "from sklearn.preprocessing import StandardScaler\n",
    "from sklearn.tree import DecisionTreeClassifier\n",
    "from sklearn.linear_model import LogisticRegression\n",
    "from sklearn.metrics import accuracy_score\n",
    "from sklearn.metrics import confusion_matrix,classification_report\n",
    "from sklearn.model_selection import train_test_split\n",
    "import warnings\n",
    "warnings.filterwarnings('ignore')"
   ]
  },
  {
   "cell_type": "code",
   "execution_count": 47,
   "id": "f187f2dc",
   "metadata": {},
   "outputs": [
    {
     "data": {
      "text/plain": [
       "array([[-1.73010796,  0.82737724, -1.31021659, ...,  0.91896631,\n",
       "        -0.50244517,  0.58595414],\n",
       "       [-1.72622007, -1.56610693, -0.99141018, ...,  1.28262456,\n",
       "         0.78684529, -1.9423032 ],\n",
       "       [-1.72233219,  0.82737724, -0.35768524, ...,  1.64628282,\n",
       "        -0.48885426,  0.58595414],\n",
       "       ...,\n",
       "       [ 1.72233219,  0.82737724, -0.12441226, ...,  1.67617254,\n",
       "        -0.17626324,  0.58595414],\n",
       "       [ 1.72622007, -1.56610693, -1.41518943, ..., -1.64656796,\n",
       "        -0.04438104, -1.9423032 ],\n",
       "       [ 1.73010796,  0.82737724, -0.87477369, ...,  0.63501397,\n",
       "        -0.49237783, -0.67817453]])"
      ]
     },
     "execution_count": 47,
     "metadata": {},
     "output_type": "execute_result"
    }
   ],
   "source": [
    "sc=StandardScaler()\n",
    "x=sc.fit_transform(x)\n",
    "x"
   ]
  },
  {
   "cell_type": "code",
   "execution_count": 48,
   "id": "0ab860f5",
   "metadata": {},
   "outputs": [
    {
     "name": "stdout",
     "output_type": "stream",
     "text": [
      "At random state 0, the training accuracy is: 0.8075842696629213\n",
      "At random state 0, the testing accuracy is: 0.7988826815642458\n",
      "\n",
      "\n",
      "At random state 1, the training accuracy is: 0.797752808988764\n",
      "At random state 1, the testing accuracy is: 0.7932960893854749\n",
      "\n",
      "\n",
      "At random state 2, the training accuracy is: 0.8132022471910112\n",
      "At random state 2, the testing accuracy is: 0.770949720670391\n",
      "\n",
      "\n",
      "At random state 3, the training accuracy is: 0.8230337078651685\n",
      "At random state 3, the testing accuracy is: 0.7597765363128491\n",
      "\n",
      "\n",
      "At random state 4, the training accuracy is: 0.7991573033707865\n",
      "At random state 4, the testing accuracy is: 0.8324022346368715\n",
      "\n",
      "\n",
      "At random state 5, the training accuracy is: 0.800561797752809\n",
      "At random state 5, the testing accuracy is: 0.8100558659217877\n",
      "\n",
      "\n",
      "At random state 6, the training accuracy is: 0.7893258426966292\n",
      "At random state 6, the testing accuracy is: 0.8715083798882681\n",
      "\n",
      "\n",
      "At random state 7, the training accuracy is: 0.8188202247191011\n",
      "At random state 7, the testing accuracy is: 0.770949720670391\n",
      "\n",
      "\n",
      "At random state 8, the training accuracy is: 0.8230337078651685\n",
      "At random state 8, the testing accuracy is: 0.7597765363128491\n",
      "\n",
      "\n",
      "At random state 9, the training accuracy is: 0.8202247191011236\n",
      "At random state 9, the testing accuracy is: 0.7653631284916201\n",
      "\n",
      "\n",
      "At random state 10, the training accuracy is: 0.8089887640449438\n",
      "At random state 10, the testing accuracy is: 0.8268156424581006\n",
      "\n",
      "\n",
      "At random state 11, the training accuracy is: 0.7949438202247191\n",
      "At random state 11, the testing accuracy is: 0.8379888268156425\n",
      "\n",
      "\n",
      "At random state 12, the training accuracy is: 0.8174157303370787\n",
      "At random state 12, the testing accuracy is: 0.8100558659217877\n",
      "\n",
      "\n",
      "At random state 13, the training accuracy is: 0.8019662921348315\n",
      "At random state 13, the testing accuracy is: 0.8491620111731844\n",
      "\n",
      "\n",
      "At random state 14, the training accuracy is: 0.8033707865168539\n",
      "At random state 14, the testing accuracy is: 0.7988826815642458\n",
      "\n",
      "\n",
      "At random state 15, the training accuracy is: 0.8019662921348315\n",
      "At random state 15, the testing accuracy is: 0.8268156424581006\n",
      "\n",
      "\n",
      "At random state 16, the training accuracy is: 0.8188202247191011\n",
      "At random state 16, the testing accuracy is: 0.7374301675977654\n",
      "\n",
      "\n",
      "At random state 17, the training accuracy is: 0.8174157303370787\n",
      "At random state 17, the testing accuracy is: 0.7597765363128491\n",
      "\n",
      "\n",
      "At random state 18, the training accuracy is: 0.7963483146067416\n",
      "At random state 18, the testing accuracy is: 0.8268156424581006\n",
      "\n",
      "\n",
      "At random state 19, the training accuracy is: 0.800561797752809\n",
      "At random state 19, the testing accuracy is: 0.8324022346368715\n",
      "\n",
      "\n",
      "At random state 20, the training accuracy is: 0.800561797752809\n",
      "At random state 20, the testing accuracy is: 0.8212290502793296\n",
      "\n",
      "\n",
      "At random state 21, the training accuracy is: 0.8033707865168539\n",
      "At random state 21, the testing accuracy is: 0.8100558659217877\n",
      "\n",
      "\n",
      "At random state 22, the training accuracy is: 0.8117977528089888\n",
      "At random state 22, the testing accuracy is: 0.7932960893854749\n",
      "\n",
      "\n",
      "At random state 23, the training accuracy is: 0.8117977528089888\n",
      "At random state 23, the testing accuracy is: 0.7430167597765364\n",
      "\n",
      "\n",
      "At random state 24, the training accuracy is: 0.7991573033707865\n",
      "At random state 24, the testing accuracy is: 0.8379888268156425\n",
      "\n",
      "\n",
      "At random state 25, the training accuracy is: 0.8033707865168539\n",
      "At random state 25, the testing accuracy is: 0.8044692737430168\n",
      "\n",
      "\n",
      "At random state 26, the training accuracy is: 0.800561797752809\n",
      "At random state 26, the testing accuracy is: 0.8268156424581006\n",
      "\n",
      "\n",
      "At random state 27, the training accuracy is: 0.8019662921348315\n",
      "At random state 27, the testing accuracy is: 0.8156424581005587\n",
      "\n",
      "\n",
      "At random state 28, the training accuracy is: 0.8103932584269663\n",
      "At random state 28, the testing accuracy is: 0.7988826815642458\n",
      "\n",
      "\n",
      "At random state 29, the training accuracy is: 0.8089887640449438\n",
      "At random state 29, the testing accuracy is: 0.7877094972067039\n",
      "\n",
      "\n",
      "At random state 30, the training accuracy is: 0.8075842696629213\n",
      "At random state 30, the testing accuracy is: 0.7877094972067039\n",
      "\n",
      "\n",
      "At random state 31, the training accuracy is: 0.8230337078651685\n",
      "At random state 31, the testing accuracy is: 0.7932960893854749\n",
      "\n",
      "\n",
      "At random state 32, the training accuracy is: 0.8103932584269663\n",
      "At random state 32, the testing accuracy is: 0.7877094972067039\n",
      "\n",
      "\n",
      "At random state 33, the training accuracy is: 0.8033707865168539\n",
      "At random state 33, the testing accuracy is: 0.8100558659217877\n",
      "\n",
      "\n",
      "At random state 34, the training accuracy is: 0.7991573033707865\n",
      "At random state 34, the testing accuracy is: 0.8156424581005587\n",
      "\n",
      "\n",
      "At random state 35, the training accuracy is: 0.8075842696629213\n",
      "At random state 35, the testing accuracy is: 0.7988826815642458\n",
      "\n",
      "\n",
      "At random state 36, the training accuracy is: 0.8019662921348315\n",
      "At random state 36, the testing accuracy is: 0.7932960893854749\n",
      "\n",
      "\n",
      "At random state 37, the training accuracy is: 0.8103932584269663\n",
      "At random state 37, the testing accuracy is: 0.8100558659217877\n",
      "\n",
      "\n",
      "At random state 38, the training accuracy is: 0.8047752808988764\n",
      "At random state 38, the testing accuracy is: 0.8268156424581006\n",
      "\n",
      "\n",
      "At random state 39, the training accuracy is: 0.8033707865168539\n",
      "At random state 39, the testing accuracy is: 0.7988826815642458\n",
      "\n",
      "\n",
      "At random state 40, the training accuracy is: 0.8047752808988764\n",
      "At random state 40, the testing accuracy is: 0.8156424581005587\n",
      "\n",
      "\n",
      "At random state 41, the training accuracy is: 0.8075842696629213\n",
      "At random state 41, the testing accuracy is: 0.8100558659217877\n",
      "\n",
      "\n",
      "At random state 42, the training accuracy is: 0.8132022471910112\n",
      "At random state 42, the testing accuracy is: 0.8156424581005587\n",
      "\n",
      "\n",
      "At random state 43, the training accuracy is: 0.8230337078651685\n",
      "At random state 43, the testing accuracy is: 0.7374301675977654\n",
      "\n",
      "\n",
      "At random state 44, the training accuracy is: 0.8160112359550562\n",
      "At random state 44, the testing accuracy is: 0.7541899441340782\n",
      "\n",
      "\n",
      "At random state 45, the training accuracy is: 0.7991573033707865\n",
      "At random state 45, the testing accuracy is: 0.8268156424581006\n",
      "\n",
      "\n",
      "At random state 46, the training accuracy is: 0.8019662921348315\n",
      "At random state 46, the testing accuracy is: 0.8435754189944135\n",
      "\n",
      "\n",
      "At random state 47, the training accuracy is: 0.8033707865168539\n",
      "At random state 47, the testing accuracy is: 0.7932960893854749\n",
      "\n",
      "\n",
      "At random state 48, the training accuracy is: 0.8103932584269663\n",
      "At random state 48, the testing accuracy is: 0.776536312849162\n",
      "\n",
      "\n",
      "At random state 49, the training accuracy is: 0.7949438202247191\n",
      "At random state 49, the testing accuracy is: 0.8324022346368715\n",
      "\n",
      "\n",
      "At random state 50, the training accuracy is: 0.8117977528089888\n",
      "At random state 50, the testing accuracy is: 0.7988826815642458\n",
      "\n",
      "\n",
      "At random state 51, the training accuracy is: 0.8103932584269663\n",
      "At random state 51, the testing accuracy is: 0.7821229050279329\n",
      "\n",
      "\n",
      "At random state 52, the training accuracy is: 0.8019662921348315\n",
      "At random state 52, the testing accuracy is: 0.8044692737430168\n",
      "\n",
      "\n",
      "At random state 53, the training accuracy is: 0.8075842696629213\n",
      "At random state 53, the testing accuracy is: 0.770949720670391\n",
      "\n",
      "\n",
      "At random state 54, the training accuracy is: 0.8103932584269663\n",
      "At random state 54, the testing accuracy is: 0.7988826815642458\n",
      "\n",
      "\n",
      "At random state 55, the training accuracy is: 0.8075842696629213\n",
      "At random state 55, the testing accuracy is: 0.7988826815642458\n",
      "\n",
      "\n",
      "At random state 56, the training accuracy is: 0.797752808988764\n",
      "At random state 56, the testing accuracy is: 0.8156424581005587\n",
      "\n",
      "\n",
      "At random state 57, the training accuracy is: 0.8202247191011236\n",
      "At random state 57, the testing accuracy is: 0.7932960893854749\n",
      "\n",
      "\n",
      "At random state 58, the training accuracy is: 0.8117977528089888\n",
      "At random state 58, the testing accuracy is: 0.7877094972067039\n",
      "\n",
      "\n",
      "At random state 59, the training accuracy is: 0.8146067415730337\n",
      "At random state 59, the testing accuracy is: 0.7374301675977654\n",
      "\n",
      "\n",
      "At random state 60, the training accuracy is: 0.8202247191011236\n",
      "At random state 60, the testing accuracy is: 0.7374301675977654\n",
      "\n",
      "\n",
      "At random state 61, the training accuracy is: 0.8061797752808989\n",
      "At random state 61, the testing accuracy is: 0.7877094972067039\n",
      "\n",
      "\n",
      "At random state 62, the training accuracy is: 0.8117977528089888\n",
      "At random state 62, the testing accuracy is: 0.8100558659217877\n",
      "\n",
      "\n",
      "At random state 63, the training accuracy is: 0.8075842696629213\n",
      "At random state 63, the testing accuracy is: 0.7988826815642458\n",
      "\n",
      "\n",
      "At random state 64, the training accuracy is: 0.8019662921348315\n",
      "At random state 64, the testing accuracy is: 0.8212290502793296\n",
      "\n",
      "\n",
      "At random state 65, the training accuracy is: 0.800561797752809\n",
      "At random state 65, the testing accuracy is: 0.7877094972067039\n",
      "\n",
      "\n",
      "At random state 66, the training accuracy is: 0.8174157303370787\n",
      "At random state 66, the testing accuracy is: 0.776536312849162\n",
      "\n",
      "\n",
      "At random state 67, the training accuracy is: 0.8047752808988764\n",
      "At random state 67, the testing accuracy is: 0.8268156424581006\n",
      "\n",
      "\n",
      "At random state 68, the training accuracy is: 0.8075842696629213\n",
      "At random state 68, the testing accuracy is: 0.7988826815642458\n",
      "\n",
      "\n",
      "At random state 69, the training accuracy is: 0.7991573033707865\n",
      "At random state 69, the testing accuracy is: 0.8212290502793296\n",
      "\n",
      "\n",
      "At random state 70, the training accuracy is: 0.7935393258426966\n",
      "At random state 70, the testing accuracy is: 0.8435754189944135\n",
      "\n",
      "\n",
      "At random state 71, the training accuracy is: 0.7921348314606742\n",
      "At random state 71, the testing accuracy is: 0.8212290502793296\n",
      "\n",
      "\n",
      "At random state 72, the training accuracy is: 0.8089887640449438\n",
      "At random state 72, the testing accuracy is: 0.8100558659217877\n",
      "\n",
      "\n",
      "At random state 73, the training accuracy is: 0.8047752808988764\n",
      "At random state 73, the testing accuracy is: 0.8156424581005587\n",
      "\n",
      "\n",
      "At random state 74, the training accuracy is: 0.8047752808988764\n",
      "At random state 74, the testing accuracy is: 0.8324022346368715\n",
      "\n",
      "\n",
      "At random state 75, the training accuracy is: 0.8132022471910112\n",
      "At random state 75, the testing accuracy is: 0.7541899441340782\n",
      "\n",
      "\n",
      "At random state 76, the training accuracy is: 0.7991573033707865\n",
      "At random state 76, the testing accuracy is: 0.8379888268156425\n",
      "\n",
      "\n",
      "At random state 77, the training accuracy is: 0.8075842696629213\n",
      "At random state 77, the testing accuracy is: 0.7821229050279329\n",
      "\n",
      "\n",
      "At random state 78, the training accuracy is: 0.7963483146067416\n",
      "At random state 78, the testing accuracy is: 0.8435754189944135\n",
      "\n",
      "\n"
     ]
    },
    {
     "name": "stdout",
     "output_type": "stream",
     "text": [
      "At random state 79, the training accuracy is: 0.800561797752809\n",
      "At random state 79, the testing accuracy is: 0.8212290502793296\n",
      "\n",
      "\n",
      "At random state 80, the training accuracy is: 0.8146067415730337\n",
      "At random state 80, the testing accuracy is: 0.7653631284916201\n",
      "\n",
      "\n",
      "At random state 81, the training accuracy is: 0.8174157303370787\n",
      "At random state 81, the testing accuracy is: 0.7430167597765364\n",
      "\n",
      "\n",
      "At random state 82, the training accuracy is: 0.8033707865168539\n",
      "At random state 82, the testing accuracy is: 0.8044692737430168\n",
      "\n",
      "\n",
      "At random state 83, the training accuracy is: 0.8047752808988764\n",
      "At random state 83, the testing accuracy is: 0.7877094972067039\n",
      "\n",
      "\n",
      "At random state 84, the training accuracy is: 0.8230337078651685\n",
      "At random state 84, the testing accuracy is: 0.7541899441340782\n",
      "\n",
      "\n",
      "At random state 85, the training accuracy is: 0.8061797752808989\n",
      "At random state 85, the testing accuracy is: 0.7821229050279329\n",
      "\n",
      "\n",
      "At random state 86, the training accuracy is: 0.8103932584269663\n",
      "At random state 86, the testing accuracy is: 0.7932960893854749\n",
      "\n",
      "\n",
      "At random state 87, the training accuracy is: 0.8033707865168539\n",
      "At random state 87, the testing accuracy is: 0.7988826815642458\n",
      "\n",
      "\n",
      "At random state 88, the training accuracy is: 0.797752808988764\n",
      "At random state 88, the testing accuracy is: 0.7932960893854749\n",
      "\n",
      "\n",
      "At random state 89, the training accuracy is: 0.7963483146067416\n",
      "At random state 89, the testing accuracy is: 0.8324022346368715\n",
      "\n",
      "\n",
      "At random state 90, the training accuracy is: 0.8033707865168539\n",
      "At random state 90, the testing accuracy is: 0.8100558659217877\n",
      "\n",
      "\n",
      "At random state 91, the training accuracy is: 0.8089887640449438\n",
      "At random state 91, the testing accuracy is: 0.7486033519553073\n",
      "\n",
      "\n",
      "At random state 92, the training accuracy is: 0.8089887640449438\n",
      "At random state 92, the testing accuracy is: 0.776536312849162\n",
      "\n",
      "\n",
      "At random state 93, the training accuracy is: 0.8033707865168539\n",
      "At random state 93, the testing accuracy is: 0.8379888268156425\n",
      "\n",
      "\n",
      "At random state 94, the training accuracy is: 0.800561797752809\n",
      "At random state 94, the testing accuracy is: 0.8100558659217877\n",
      "\n",
      "\n",
      "At random state 95, the training accuracy is: 0.7963483146067416\n",
      "At random state 95, the testing accuracy is: 0.8324022346368715\n",
      "\n",
      "\n",
      "At random state 96, the training accuracy is: 0.7921348314606742\n",
      "At random state 96, the testing accuracy is: 0.8156424581005587\n",
      "\n",
      "\n",
      "At random state 97, the training accuracy is: 0.8019662921348315\n",
      "At random state 97, the testing accuracy is: 0.8044692737430168\n",
      "\n",
      "\n",
      "At random state 98, the training accuracy is: 0.8230337078651685\n",
      "At random state 98, the testing accuracy is: 0.7541899441340782\n",
      "\n",
      "\n",
      "At random state 99, the training accuracy is: 0.8188202247191011\n",
      "At random state 99, the testing accuracy is: 0.7597765363128491\n",
      "\n",
      "\n"
     ]
    }
   ],
   "source": [
    "lr=LogisticRegression()\n",
    "for i in range(0,100):\n",
    "    x_train,x_test,y_train,y_test=train_test_split(x,y,test_size=0.2,random_state=i)\n",
    "    lr.fit(x_train,y_train)\n",
    "    pred_train=lr.predict(x_train)\n",
    "    pred_test=lr.predict(x_test)\n",
    "    print(f'At random state {i}, the training accuracy is: {accuracy_score(y_train,pred_train)}')\n",
    "    print(f'At random state {i}, the testing accuracy is: {accuracy_score(y_test,pred_test)}')\n",
    "    print(\"\\n\")"
   ]
  },
  {
   "cell_type": "markdown",
   "id": "1bb11fbd",
   "metadata": {},
   "source": [
    "# The best train and test accuracy we get for random state 6"
   ]
  },
  {
   "cell_type": "code",
   "execution_count": 49,
   "id": "a15395ab",
   "metadata": {},
   "outputs": [],
   "source": [
    "x_train,x_test,y_train,y_test=train_test_split(x,y,test_size=0.2,random_state=6)"
   ]
  },
  {
   "cell_type": "code",
   "execution_count": 50,
   "id": "726f4526",
   "metadata": {},
   "outputs": [
    {
     "name": "stdout",
     "output_type": "stream",
     "text": [
      "0.8715083798882681\n",
      "[[106   7]\n",
      " [ 16  50]]\n",
      "              precision    recall  f1-score   support\n",
      "\n",
      "           0       0.87      0.94      0.90       113\n",
      "           1       0.88      0.76      0.81        66\n",
      "\n",
      "    accuracy                           0.87       179\n",
      "   macro avg       0.87      0.85      0.86       179\n",
      "weighted avg       0.87      0.87      0.87       179\n",
      "\n"
     ]
    }
   ],
   "source": [
    "lr=LogisticRegression()\n",
    "lr.fit(x_train,y_train)\n",
    "predlr=lr.predict(x_test)\n",
    "print(accuracy_score(y_test,predlr))\n",
    "print(confusion_matrix(y_test,predlr))\n",
    "print(classification_report(y_test,predlr))"
   ]
  },
  {
   "cell_type": "markdown",
   "id": "7df317da",
   "metadata": {},
   "source": [
    "We get accuracy of 87% for Logistic Regression"
   ]
  },
  {
   "cell_type": "code",
   "execution_count": 51,
   "id": "5afecfda",
   "metadata": {},
   "outputs": [
    {
     "name": "stdout",
     "output_type": "stream",
     "text": [
      "0.7988826815642458\n",
      "[[95 18]\n",
      " [18 48]]\n",
      "              precision    recall  f1-score   support\n",
      "\n",
      "           0       0.84      0.84      0.84       113\n",
      "           1       0.73      0.73      0.73        66\n",
      "\n",
      "    accuracy                           0.80       179\n",
      "   macro avg       0.78      0.78      0.78       179\n",
      "weighted avg       0.80      0.80      0.80       179\n",
      "\n"
     ]
    }
   ],
   "source": [
    "dt=DecisionTreeClassifier()\n",
    "dt.fit(x_train,y_train)\n",
    "preddt=dt.predict(x_test)\n",
    "print(accuracy_score(y_test,preddt))\n",
    "print(confusion_matrix(y_test,preddt))\n",
    "print(classification_report(y_test,preddt))"
   ]
  },
  {
   "cell_type": "markdown",
   "id": "e9ba9a81",
   "metadata": {},
   "source": [
    "We get accuracy of 79% for Decision Tree Classifier"
   ]
  },
  {
   "cell_type": "markdown",
   "id": "0d1ab38c",
   "metadata": {},
   "source": [
    "# Cross Validation of the Model"
   ]
  },
  {
   "cell_type": "code",
   "execution_count": 53,
   "id": "c89c8128",
   "metadata": {},
   "outputs": [
    {
     "name": "stdout",
     "output_type": "stream",
     "text": [
      "At cross fold 2 the cv score is 0.7833979946591425 and accuracy score for training is 0.5182584269662921 and accuracy for the testing is 0.5698324022346368\n",
      "\n",
      "\n",
      "At cross fold 3 the cv score is 0.7934904601571269 and accuracy score for training is 0.5182584269662921 and accuracy for the testing is 0.5698324022346368\n",
      "\n",
      "\n",
      "At cross fold 4 the cv score is 0.7878994465317336 and accuracy score for training is 0.5182584269662921 and accuracy for the testing is 0.5698324022346368\n",
      "\n",
      "\n",
      "At cross fold 5 the cv score is 0.7901324461741259 and accuracy score for training is 0.5182584269662921 and accuracy for the testing is 0.5698324022346368\n",
      "\n",
      "\n",
      "At cross fold 6 the cv score is 0.7901324142934882 and accuracy score for training is 0.5182584269662921 and accuracy for the testing is 0.5698324022346368\n",
      "\n",
      "\n",
      "At cross fold 7 the cv score is 0.7912507030371204 and accuracy score for training is 0.5182584269662921 and accuracy for the testing is 0.5698324022346368\n",
      "\n",
      "\n",
      "At cross fold 8 the cv score is 0.7957388191763192 and accuracy score for training is 0.5182584269662921 and accuracy for the testing is 0.5698324022346368\n",
      "\n",
      "\n",
      "At cross fold 9 the cv score is 0.7878787878787878 and accuracy score for training is 0.5182584269662921 and accuracy for the testing is 0.5698324022346368\n",
      "\n",
      "\n"
     ]
    }
   ],
   "source": [
    "train_accuracy=accuracy_score(y_train,pred_train)\n",
    "test_accuracy=accuracy_score(y_test,pred_test)\n",
    "\n",
    "from sklearn.model_selection import cross_val_score\n",
    "for j in range(2,10):\n",
    "    cv_score=cross_val_score(lr,x,y,cv=j)\n",
    "    cv_mean=cv_score.mean()\n",
    "    print(f\"At cross fold {j} the cv score is {cv_mean} and accuracy score for training is {train_accuracy} and accuracy for the testing is {test_accuracy}\")\n",
    "    print(\"\\n\")"
   ]
  },
  {
   "cell_type": "code",
   "execution_count": 54,
   "id": "661985dd",
   "metadata": {},
   "outputs": [
    {
     "name": "stdout",
     "output_type": "stream",
     "text": [
      "Cross Validation score of LogisticRegression model:  0.7957388191763192\n"
     ]
    }
   ],
   "source": [
    "from sklearn.model_selection import cross_val_score\n",
    "scr=cross_val_score(lr,x,y,cv=8)\n",
    "print(\"Cross Validation score of LogisticRegression model: \",scr.mean())"
   ]
  },
  {
   "cell_type": "code",
   "execution_count": 55,
   "id": "d1846bbb",
   "metadata": {},
   "outputs": [
    {
     "name": "stdout",
     "output_type": "stream",
     "text": [
      "Cross Validation score of DecisionTreeClassifier model:  0.7644319600499376\n"
     ]
    }
   ],
   "source": [
    "from sklearn.model_selection import cross_val_score\n",
    "scr=cross_val_score(dt,x,y,cv=10)\n",
    "print(\"Cross Validation score of DecisionTreeClassifier model: \",scr.mean())"
   ]
  },
  {
   "cell_type": "markdown",
   "id": "edeb3604",
   "metadata": {},
   "source": [
    "# Hyper Parameter Tuning"
   ]
  },
  {
   "cell_type": "code",
   "execution_count": 56,
   "id": "eb56ee55",
   "metadata": {},
   "outputs": [],
   "source": [
    "from sklearn.model_selection import GridSearchCV"
   ]
  },
  {
   "cell_type": "code",
   "execution_count": 57,
   "id": "89e3503c",
   "metadata": {},
   "outputs": [],
   "source": [
    "#Creating parameter list to pass in GridSearchCV\n",
    "parameters={'max_depth':np.arange(2,15),'criterion':['gini','entropy']}"
   ]
  },
  {
   "cell_type": "code",
   "execution_count": 58,
   "id": "04e9109e",
   "metadata": {},
   "outputs": [],
   "source": [
    "GCV=GridSearchCV(DecisionTreeClassifier(),parameters,cv=5)"
   ]
  },
  {
   "cell_type": "code",
   "execution_count": 59,
   "id": "316106b6",
   "metadata": {},
   "outputs": [
    {
     "data": {
      "text/html": [
       "<style>#sk-container-id-1 {color: black;background-color: white;}#sk-container-id-1 pre{padding: 0;}#sk-container-id-1 div.sk-toggleable {background-color: white;}#sk-container-id-1 label.sk-toggleable__label {cursor: pointer;display: block;width: 100%;margin-bottom: 0;padding: 0.3em;box-sizing: border-box;text-align: center;}#sk-container-id-1 label.sk-toggleable__label-arrow:before {content: \"▸\";float: left;margin-right: 0.25em;color: #696969;}#sk-container-id-1 label.sk-toggleable__label-arrow:hover:before {color: black;}#sk-container-id-1 div.sk-estimator:hover label.sk-toggleable__label-arrow:before {color: black;}#sk-container-id-1 div.sk-toggleable__content {max-height: 0;max-width: 0;overflow: hidden;text-align: left;background-color: #f0f8ff;}#sk-container-id-1 div.sk-toggleable__content pre {margin: 0.2em;color: black;border-radius: 0.25em;background-color: #f0f8ff;}#sk-container-id-1 input.sk-toggleable__control:checked~div.sk-toggleable__content {max-height: 200px;max-width: 100%;overflow: auto;}#sk-container-id-1 input.sk-toggleable__control:checked~label.sk-toggleable__label-arrow:before {content: \"▾\";}#sk-container-id-1 div.sk-estimator input.sk-toggleable__control:checked~label.sk-toggleable__label {background-color: #d4ebff;}#sk-container-id-1 div.sk-label input.sk-toggleable__control:checked~label.sk-toggleable__label {background-color: #d4ebff;}#sk-container-id-1 input.sk-hidden--visually {border: 0;clip: rect(1px 1px 1px 1px);clip: rect(1px, 1px, 1px, 1px);height: 1px;margin: -1px;overflow: hidden;padding: 0;position: absolute;width: 1px;}#sk-container-id-1 div.sk-estimator {font-family: monospace;background-color: #f0f8ff;border: 1px dotted black;border-radius: 0.25em;box-sizing: border-box;margin-bottom: 0.5em;}#sk-container-id-1 div.sk-estimator:hover {background-color: #d4ebff;}#sk-container-id-1 div.sk-parallel-item::after {content: \"\";width: 100%;border-bottom: 1px solid gray;flex-grow: 1;}#sk-container-id-1 div.sk-label:hover label.sk-toggleable__label {background-color: #d4ebff;}#sk-container-id-1 div.sk-serial::before {content: \"\";position: absolute;border-left: 1px solid gray;box-sizing: border-box;top: 0;bottom: 0;left: 50%;z-index: 0;}#sk-container-id-1 div.sk-serial {display: flex;flex-direction: column;align-items: center;background-color: white;padding-right: 0.2em;padding-left: 0.2em;position: relative;}#sk-container-id-1 div.sk-item {position: relative;z-index: 1;}#sk-container-id-1 div.sk-parallel {display: flex;align-items: stretch;justify-content: center;background-color: white;position: relative;}#sk-container-id-1 div.sk-item::before, #sk-container-id-1 div.sk-parallel-item::before {content: \"\";position: absolute;border-left: 1px solid gray;box-sizing: border-box;top: 0;bottom: 0;left: 50%;z-index: -1;}#sk-container-id-1 div.sk-parallel-item {display: flex;flex-direction: column;z-index: 1;position: relative;background-color: white;}#sk-container-id-1 div.sk-parallel-item:first-child::after {align-self: flex-end;width: 50%;}#sk-container-id-1 div.sk-parallel-item:last-child::after {align-self: flex-start;width: 50%;}#sk-container-id-1 div.sk-parallel-item:only-child::after {width: 0;}#sk-container-id-1 div.sk-dashed-wrapped {border: 1px dashed gray;margin: 0 0.4em 0.5em 0.4em;box-sizing: border-box;padding-bottom: 0.4em;background-color: white;}#sk-container-id-1 div.sk-label label {font-family: monospace;font-weight: bold;display: inline-block;line-height: 1.2em;}#sk-container-id-1 div.sk-label-container {text-align: center;}#sk-container-id-1 div.sk-container {/* jupyter's `normalize.less` sets `[hidden] { display: none; }` but bootstrap.min.css set `[hidden] { display: none !important; }` so we also need the `!important` here to be able to override the default hidden behavior on the sphinx rendered scikit-learn.org. See: https://github.com/scikit-learn/scikit-learn/issues/21755 */display: inline-block !important;position: relative;}#sk-container-id-1 div.sk-text-repr-fallback {display: none;}</style><div id=\"sk-container-id-1\" class=\"sk-top-container\"><div class=\"sk-text-repr-fallback\"><pre>GridSearchCV(cv=5, estimator=DecisionTreeClassifier(),\n",
       "             param_grid={&#x27;criterion&#x27;: [&#x27;gini&#x27;, &#x27;entropy&#x27;],\n",
       "                         &#x27;max_depth&#x27;: array([ 2,  3,  4,  5,  6,  7,  8,  9, 10, 11, 12, 13, 14])})</pre><b>In a Jupyter environment, please rerun this cell to show the HTML representation or trust the notebook. <br />On GitHub, the HTML representation is unable to render, please try loading this page with nbviewer.org.</b></div><div class=\"sk-container\" hidden><div class=\"sk-item sk-dashed-wrapped\"><div class=\"sk-label-container\"><div class=\"sk-label sk-toggleable\"><input class=\"sk-toggleable__control sk-hidden--visually\" id=\"sk-estimator-id-1\" type=\"checkbox\" ><label for=\"sk-estimator-id-1\" class=\"sk-toggleable__label sk-toggleable__label-arrow\">GridSearchCV</label><div class=\"sk-toggleable__content\"><pre>GridSearchCV(cv=5, estimator=DecisionTreeClassifier(),\n",
       "             param_grid={&#x27;criterion&#x27;: [&#x27;gini&#x27;, &#x27;entropy&#x27;],\n",
       "                         &#x27;max_depth&#x27;: array([ 2,  3,  4,  5,  6,  7,  8,  9, 10, 11, 12, 13, 14])})</pre></div></div></div><div class=\"sk-parallel\"><div class=\"sk-parallel-item\"><div class=\"sk-item\"><div class=\"sk-label-container\"><div class=\"sk-label sk-toggleable\"><input class=\"sk-toggleable__control sk-hidden--visually\" id=\"sk-estimator-id-2\" type=\"checkbox\" ><label for=\"sk-estimator-id-2\" class=\"sk-toggleable__label sk-toggleable__label-arrow\">estimator: DecisionTreeClassifier</label><div class=\"sk-toggleable__content\"><pre>DecisionTreeClassifier()</pre></div></div></div><div class=\"sk-serial\"><div class=\"sk-item\"><div class=\"sk-estimator sk-toggleable\"><input class=\"sk-toggleable__control sk-hidden--visually\" id=\"sk-estimator-id-3\" type=\"checkbox\" ><label for=\"sk-estimator-id-3\" class=\"sk-toggleable__label sk-toggleable__label-arrow\">DecisionTreeClassifier</label><div class=\"sk-toggleable__content\"><pre>DecisionTreeClassifier()</pre></div></div></div></div></div></div></div></div></div></div>"
      ],
      "text/plain": [
       "GridSearchCV(cv=5, estimator=DecisionTreeClassifier(),\n",
       "             param_grid={'criterion': ['gini', 'entropy'],\n",
       "                         'max_depth': array([ 2,  3,  4,  5,  6,  7,  8,  9, 10, 11, 12, 13, 14])})"
      ]
     },
     "execution_count": 59,
     "metadata": {},
     "output_type": "execute_result"
    }
   ],
   "source": [
    "GCV.fit(x_train,y_train)"
   ]
  },
  {
   "cell_type": "code",
   "execution_count": 60,
   "id": "5f392d9d",
   "metadata": {},
   "outputs": [
    {
     "data": {
      "text/plain": [
       "{'criterion': 'entropy', 'max_depth': 6}"
      ]
     },
     "execution_count": 60,
     "metadata": {},
     "output_type": "execute_result"
    }
   ],
   "source": [
    "GCV.best_params_  #Printing the best parameter found by GridSearchCV"
   ]
  },
  {
   "cell_type": "code",
   "execution_count": 61,
   "id": "4b6e86c0",
   "metadata": {},
   "outputs": [],
   "source": [
    "GCV_pred=GCV.best_estimator_.predict(x_test)"
   ]
  },
  {
   "cell_type": "code",
   "execution_count": 62,
   "id": "9179f44a",
   "metadata": {},
   "outputs": [
    {
     "data": {
      "text/plain": [
       "0.8379888268156425"
      ]
     },
     "execution_count": 62,
     "metadata": {},
     "output_type": "execute_result"
    }
   ],
   "source": [
    "accuracy_score(y_test,GCV_pred)"
   ]
  },
  {
   "cell_type": "markdown",
   "id": "13115f25",
   "metadata": {},
   "source": [
    "Hence,the accuracy obatained is 83.79%"
   ]
  },
  {
   "cell_type": "markdown",
   "id": "aa337b49",
   "metadata": {},
   "source": [
    "# Saving the Model"
   ]
  },
  {
   "cell_type": "code",
   "execution_count": 64,
   "id": "a81fd1b4",
   "metadata": {},
   "outputs": [
    {
     "ename": "ImportError",
     "evalue": "cannot import name 'joblib' from 'sklearn.externals' (C:\\Users\\user\\anaconda3\\lib\\site-packages\\sklearn\\externals\\__init__.py)",
     "output_type": "error",
     "traceback": [
      "\u001b[1;31m---------------------------------------------------------------------------\u001b[0m",
      "\u001b[1;31mImportError\u001b[0m                               Traceback (most recent call last)",
      "Input \u001b[1;32mIn [64]\u001b[0m, in \u001b[0;36m<cell line: 1>\u001b[1;34m()\u001b[0m\n\u001b[1;32m----> 1\u001b[0m \u001b[38;5;28;01mfrom\u001b[39;00m \u001b[38;5;21;01msklearn\u001b[39;00m\u001b[38;5;21;01m.\u001b[39;00m\u001b[38;5;21;01mexternals\u001b[39;00m \u001b[38;5;28;01mimport\u001b[39;00m joblib\n\u001b[0;32m      2\u001b[0m joblib\u001b[38;5;241m.\u001b[39mdump(GCV\u001b[38;5;241m.\u001b[39mbest_estimator_,\u001b[38;5;124m'\u001b[39m\u001b[38;5;124mTitanicDTC.pkl\u001b[39m\u001b[38;5;124m'\u001b[39m)\n",
      "\u001b[1;31mImportError\u001b[0m: cannot import name 'joblib' from 'sklearn.externals' (C:\\Users\\user\\anaconda3\\lib\\site-packages\\sklearn\\externals\\__init__.py)"
     ]
    }
   ],
   "source": [
    "from sklearn.externals import joblib\n"
   ]
  },
  {
   "cell_type": "code",
   "execution_count": null,
   "id": "fe3ca78d",
   "metadata": {},
   "outputs": [],
   "source": []
  }
 ],
 "metadata": {
  "kernelspec": {
   "display_name": "Python 3 (ipykernel)",
   "language": "python",
   "name": "python3"
  },
  "language_info": {
   "codemirror_mode": {
    "name": "ipython",
    "version": 3
   },
   "file_extension": ".py",
   "mimetype": "text/x-python",
   "name": "python",
   "nbconvert_exporter": "python",
   "pygments_lexer": "ipython3",
   "version": "3.9.12"
  }
 },
 "nbformat": 4,
 "nbformat_minor": 5
}
